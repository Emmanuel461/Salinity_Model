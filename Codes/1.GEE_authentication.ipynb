{
 "cells": [
  {
   "cell_type": "markdown",
   "metadata": {},
   "source": [
    "## Instalation of the libraries requiered and autentication with GEE"
   ]
  },
  {
   "cell_type": "code",
   "execution_count": 1,
   "metadata": {},
   "outputs": [
    {
     "name": "stdout",
     "output_type": "stream",
     "text": [
      "Requirement already satisfied: geemap in c:\\users\\cespe\\appdata\\local\\packages\\pythonsoftwarefoundation.python.3.10_qbz5n2kfra8p0\\localcache\\local-packages\\python310\\site-packages (from -r requirements.txt (line 1)) (0.32.1)\n",
      "Requirement already satisfied: rasterstats in c:\\users\\cespe\\appdata\\local\\packages\\pythonsoftwarefoundation.python.3.10_qbz5n2kfra8p0\\localcache\\local-packages\\python310\\site-packages (from -r requirements.txt (line 2)) (0.19.0)\n",
      "Requirement already satisfied: geopandas in c:\\users\\cespe\\appdata\\local\\packages\\pythonsoftwarefoundation.python.3.10_qbz5n2kfra8p0\\localcache\\local-packages\\python310\\site-packages (from -r requirements.txt (line 3)) (1.0.0)\n",
      "Requirement already satisfied: rasterio in c:\\users\\cespe\\appdata\\local\\packages\\pythonsoftwarefoundation.python.3.10_qbz5n2kfra8p0\\localcache\\local-packages\\python310\\site-packages (from -r requirements.txt (line 4)) (1.3.10)\n",
      "Requirement already satisfied: earthengine-api in c:\\users\\cespe\\appdata\\local\\packages\\pythonsoftwarefoundation.python.3.10_qbz5n2kfra8p0\\localcache\\local-packages\\python310\\site-packages (from -r requirements.txt (line 5)) (0.1.409)\n",
      "Requirement already satisfied: scikit-learn in c:\\users\\cespe\\appdata\\local\\packages\\pythonsoftwarefoundation.python.3.10_qbz5n2kfra8p0\\localcache\\local-packages\\python310\\site-packages (from -r requirements.txt (line 6)) (1.5.0)\n",
      "Requirement already satisfied: treeinterpreter in c:\\users\\cespe\\appdata\\local\\packages\\pythonsoftwarefoundation.python.3.10_qbz5n2kfra8p0\\localcache\\local-packages\\python310\\site-packages (from -r requirements.txt (line 7)) (0.2.3)\n",
      "Requirement already satisfied: google-auth in c:\\users\\cespe\\appdata\\local\\packages\\pythonsoftwarefoundation.python.3.10_qbz5n2kfra8p0\\localcache\\local-packages\\python310\\site-packages (from -r requirements.txt (line 8)) (2.30.0)\n",
      "Requirement already satisfied: google-auth-oauthlib in c:\\users\\cespe\\appdata\\local\\packages\\pythonsoftwarefoundation.python.3.10_qbz5n2kfra8p0\\localcache\\local-packages\\python310\\site-packages (from -r requirements.txt (line 9)) (1.2.0)\n",
      "Requirement already satisfied: google-auth-httplib2 in c:\\users\\cespe\\appdata\\local\\packages\\pythonsoftwarefoundation.python.3.10_qbz5n2kfra8p0\\localcache\\local-packages\\python310\\site-packages (from -r requirements.txt (line 10)) (0.2.0)\n",
      "Requirement already satisfied: google-api-python-client in c:\\users\\cespe\\appdata\\local\\packages\\pythonsoftwarefoundation.python.3.10_qbz5n2kfra8p0\\localcache\\local-packages\\python310\\site-packages (from -r requirements.txt (line 11)) (2.135.0)\n",
      "Requirement already satisfied: pydrive in c:\\users\\cespe\\appdata\\local\\packages\\pythonsoftwarefoundation.python.3.10_qbz5n2kfra8p0\\localcache\\local-packages\\python310\\site-packages (from -r requirements.txt (line 13)) (1.3.1)\n",
      "Requirement already satisfied: shapely in c:\\users\\cespe\\appdata\\local\\packages\\pythonsoftwarefoundation.python.3.10_qbz5n2kfra8p0\\localcache\\local-packages\\python310\\site-packages (from -r requirements.txt (line 14)) (2.0.4)\n",
      "Requirement already satisfied: seaborn in c:\\users\\cespe\\appdata\\local\\packages\\pythonsoftwarefoundation.python.3.10_qbz5n2kfra8p0\\localcache\\local-packages\\python310\\site-packages (from -r requirements.txt (line 15)) (0.13.2)\n",
      "Requirement already satisfied: torch in c:\\users\\cespe\\appdata\\local\\packages\\pythonsoftwarefoundation.python.3.10_qbz5n2kfra8p0\\localcache\\local-packages\\python310\\site-packages (from -r requirements.txt (line 16)) (2.3.1)\n",
      "Requirement already satisfied: torchvision in c:\\users\\cespe\\appdata\\local\\packages\\pythonsoftwarefoundation.python.3.10_qbz5n2kfra8p0\\localcache\\local-packages\\python310\\site-packages (from -r requirements.txt (line 17)) (0.18.1)\n",
      "Requirement already satisfied: torchsummary in c:\\users\\cespe\\appdata\\local\\packages\\pythonsoftwarefoundation.python.3.10_qbz5n2kfra8p0\\localcache\\local-packages\\python310\\site-packages (from -r requirements.txt (line 18)) (1.5.1)\n",
      "Note: you may need to restart the kernel to use updated packages.\n"
     ]
    },
    {
     "name": "stderr",
     "output_type": "stream",
     "text": [
      "ERROR: Could not find a version that satisfies the requirement random (from versions: none)\n",
      "ERROR: No matching distribution found for random\n",
      "\n",
      "[notice] A new release of pip is available: 23.0.1 -> 24.1.2\n",
      "[notice] To update, run: C:\\Users\\cespe\\AppData\\Local\\Microsoft\\WindowsApps\\PythonSoftwareFoundation.Python.3.10_qbz5n2kfra8p0\\python.exe -m pip install --upgrade pip\n"
     ]
    }
   ],
   "source": [
    "%pip install -r requirements.txt"
   ]
  },
  {
   "cell_type": "code",
   "execution_count": 2,
   "metadata": {},
   "outputs": [
    {
     "name": "stdout",
     "output_type": "stream",
     "text": [
      "Please visit this URL to authorize this application: https://accounts.google.com/o/oauth2/auth?response_type=code&client_id=775448020170-glgpi5v37ur14of7spbms2gi67g7silt.apps.googleusercontent.com&redirect_uri=http%3A%2F%2Flocalhost%3A63782%2F&scope=https%3A%2F%2Fwww.googleapis.com%2Fauth%2Fcloud-platform&state=svjlE5SerVZbvZu4Lhwtt8TwI7uF3e&access_type=offline\n",
      "Authentication successful\n"
     ]
    }
   ],
   "source": [
    "import os\n",
    "import json\n",
    "from google_auth_oauthlib.flow import InstalledAppFlow\n",
    "from google.auth.transport.requests import Request\n",
    "import google.auth\n",
    "\n",
    "# Path to the JSON file with the credentials\n",
    "credentials_path = 'C:/Users/cespe/client_secret_2_775448020170-glgpi5v37ur14of7spbms2gi67g7silt.apps.googleusercontent.com.json'\n",
    "token_path = 'token.json'\n",
    "\n",
    "# Authentication using OAuth 2.0 client credentials\n",
    "def get_credentials():\n",
    "    credentials = None\n",
    "    if os.path.exists(token_path):\n",
    "        with open(token_path, 'r') as token_file:\n",
    "            credentials = google.oauth2.credentials.Credentials.from_authorized_user_info(\n",
    "                json.load(token_file)\n",
    "            )\n",
    "\n",
    "    if not credentials or not credentials.valid:\n",
    "        if credentials and credentials.expired and credentials.refresh_token:\n",
    "            credentials.refresh(Request())\n",
    "        else:\n",
    "            flow = InstalledAppFlow.from_client_secrets_file(\n",
    "                credentials_path,\n",
    "                scopes=['https://www.googleapis.com/auth/cloud-platform']\n",
    "            )\n",
    "            credentials = flow.run_local_server(port=0)\n",
    "\n",
    "        # Guarda las credenciales para la próxima ejecución\n",
    "        with open(token_path, 'w') as token_file:\n",
    "            token_file.write(credentials.to_json())\n",
    "\n",
    "    return credentials\n",
    "\n",
    "credentials = get_credentials()\n",
    "\n",
    "\n",
    "print(\"Authentication successful\")\n",
    "\n"
   ]
  }
 ],
 "metadata": {
  "kernelspec": {
   "display_name": "Python 3",
   "language": "python",
   "name": "python3"
  },
  "language_info": {
   "codemirror_mode": {
    "name": "ipython",
    "version": 3
   },
   "file_extension": ".py",
   "mimetype": "text/x-python",
   "name": "python",
   "nbconvert_exporter": "python",
   "pygments_lexer": "ipython3",
   "version": "3.10.11"
  }
 },
 "nbformat": 4,
 "nbformat_minor": 2
}
