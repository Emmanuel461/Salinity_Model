{
 "cells": [
  {
   "cell_type": "markdown",
   "metadata": {},
   "source": [
    "## Process for PlanetScope Image Download\n",
    "\n",
    "### Considerations:\n",
    "\n",
    "1. The image was already downloaded from the PlanetScope repository and uploaded to Google Cloud Earth Engine Asset.\n",
    "2. This was done to avoid the high time in calculating the indexes; it is more efficient to do this using geemap and/or Python.\n",
    "\n",
    "### Index \n",
    "\n",
    "### 1. Prepare the image for download\n",
    "#### 1.2 Case of Cafine\n",
    "     1.2.1 The image exported to Drive needs to be downloaded using PyDrive\n",
    "     1.2.2 Extract the data of the image using the sample points and applying a buffer over the points\n",
    "\n",
    "\n",
    "\n",
    "### 3. Buffer for image statistics extraction and correlation with Sodium Absorption Rate (SAR)\n",
    "   3.1. Call the image from GEE, download, and extract buffer data  \n",
    "   3.2. Identify outliers to ensure optimal data conditions  \n",
    "   3.3. Call the image and extract buffer data  \n",
    "   3.4. Create a corrplot to visualize the correlation between different indices and SAR data  \n",
    "   3.5. Export the index with the highest correlation for making predictions\n"
   ]
  },
  {
   "cell_type": "markdown",
   "metadata": {},
   "source": [
    " ## 1. Prepare the image for download "
   ]
  },
  {
   "cell_type": "markdown",
   "metadata": {},
   "source": [
    "### 1.2 Case of Cafine"
   ]
  },
  {
   "cell_type": "code",
   "execution_count": 7,
   "metadata": {},
   "outputs": [
    {
     "data": {
      "text/html": [
       "\n",
       "            <style>\n",
       "                .geemap-dark {\n",
       "                    --jp-widgets-color: white;\n",
       "                    --jp-widgets-label-color: white;\n",
       "                    --jp-ui-font-color1: white;\n",
       "                    --jp-layout-color2: #454545;\n",
       "                    background-color: #383838;\n",
       "                }\n",
       "\n",
       "                .geemap-dark .jupyter-button {\n",
       "                    --jp-layout-color3: #383838;\n",
       "                }\n",
       "\n",
       "                .geemap-colab {\n",
       "                    background-color: var(--colab-primary-surface-color, white);\n",
       "                }\n",
       "\n",
       "                .geemap-colab .jupyter-button {\n",
       "                    --jp-layout-color3: var(--colab-primary-surface-color, white);\n",
       "                }\n",
       "            </style>\n",
       "            "
      ],
      "text/plain": [
       "<IPython.core.display.HTML object>"
      ]
     },
     "metadata": {},
     "output_type": "display_data"
    }
   ],
   "source": [
    "# Import the libraries\n",
    "import geemap\n",
    "import ee\n",
    "from pydrive.auth import GoogleAuth\n",
    "from pydrive.drive import GoogleDrive\n",
    "import geopandas as gpd"
   ]
  },
  {
   "cell_type": "code",
   "execution_count": 2,
   "metadata": {},
   "outputs": [
    {
     "data": {
      "text/html": [
       "\n",
       "            <style>\n",
       "                .geemap-dark {\n",
       "                    --jp-widgets-color: white;\n",
       "                    --jp-widgets-label-color: white;\n",
       "                    --jp-ui-font-color1: white;\n",
       "                    --jp-layout-color2: #454545;\n",
       "                    background-color: #383838;\n",
       "                }\n",
       "\n",
       "                .geemap-dark .jupyter-button {\n",
       "                    --jp-layout-color3: #383838;\n",
       "                }\n",
       "\n",
       "                .geemap-colab {\n",
       "                    background-color: var(--colab-primary-surface-color, white);\n",
       "                }\n",
       "\n",
       "                .geemap-colab .jupyter-button {\n",
       "                    --jp-layout-color3: var(--colab-primary-surface-color, white);\n",
       "                }\n",
       "            </style>\n",
       "            "
      ],
      "text/plain": [
       "<IPython.core.display.HTML object>"
      ]
     },
     "metadata": {},
     "output_type": "display_data"
    },
    {
     "data": {
      "text/html": [
       "<p>To authorize access needed by Earth Engine, open the following\n",
       "        URL in a web browser and follow the instructions:</p>\n",
       "        <p><a href=https://code.earthengine.google.com/client-auth?scopes=https%3A//www.googleapis.com/auth/earthengine%20https%3A//www.googleapis.com/auth/cloud-platform%20https%3A//www.googleapis.com/auth/devstorage.full_control&request_id=KFpc4l3GcOjUvKVMWiwoOC80Y5gnd0mZQxSm-EEwCbA&tc=r3KT0T-MnWP0X8EQSykhcnygmVO3_qSVq3FFqNvA_ps&cc=8mCfYky1gZzmzDY-YMp8xnRkco2TRJme0X7mgQTqu5k>https://code.earthengine.google.com/client-auth?scopes=https%3A//www.googleapis.com/auth/earthengine%20https%3A//www.googleapis.com/auth/cloud-platform%20https%3A//www.googleapis.com/auth/devstorage.full_control&request_id=KFpc4l3GcOjUvKVMWiwoOC80Y5gnd0mZQxSm-EEwCbA&tc=r3KT0T-MnWP0X8EQSykhcnygmVO3_qSVq3FFqNvA_ps&cc=8mCfYky1gZzmzDY-YMp8xnRkco2TRJme0X7mgQTqu5k</a></p>\n",
       "        <p>The authorization workflow will generate a code, which you should paste in the box below.</p>\n",
       "        "
      ],
      "text/plain": [
       "<IPython.core.display.HTML object>"
      ]
     },
     "metadata": {},
     "output_type": "display_data"
    },
    {
     "name": "stdout",
     "output_type": "stream",
     "text": [
      "\n",
      "Successfully saved authorization token.\n"
     ]
    }
   ],
   "source": [
    "# Authenticate your GEE account\n",
    "ee.Authenticate() "
   ]
  },
  {
   "cell_type": "code",
   "execution_count": 3,
   "metadata": {},
   "outputs": [
    {
     "data": {
      "text/html": [
       "\n",
       "            <style>\n",
       "                .geemap-dark {\n",
       "                    --jp-widgets-color: white;\n",
       "                    --jp-widgets-label-color: white;\n",
       "                    --jp-ui-font-color1: white;\n",
       "                    --jp-layout-color2: #454545;\n",
       "                    background-color: #383838;\n",
       "                }\n",
       "\n",
       "                .geemap-dark .jupyter-button {\n",
       "                    --jp-layout-color3: #383838;\n",
       "                }\n",
       "\n",
       "                .geemap-colab {\n",
       "                    background-color: var(--colab-primary-surface-color, white);\n",
       "                }\n",
       "\n",
       "                .geemap-colab .jupyter-button {\n",
       "                    --jp-layout-color3: var(--colab-primary-surface-color, white);\n",
       "                }\n",
       "            </style>\n",
       "            "
      ],
      "text/plain": [
       "<IPython.core.display.HTML object>"
      ]
     },
     "metadata": {},
     "output_type": "display_data"
    }
   ],
   "source": [
    "# Initialize GEE \n",
    "ee.Initialize()"
   ]
  },
  {
   "cell_type": "code",
   "execution_count": 4,
   "metadata": {},
   "outputs": [
    {
     "data": {
      "text/html": [
       "\n",
       "            <style>\n",
       "                .geemap-dark {\n",
       "                    --jp-widgets-color: white;\n",
       "                    --jp-widgets-label-color: white;\n",
       "                    --jp-ui-font-color1: white;\n",
       "                    --jp-layout-color2: #454545;\n",
       "                    background-color: #383838;\n",
       "                }\n",
       "\n",
       "                .geemap-dark .jupyter-button {\n",
       "                    --jp-layout-color3: #383838;\n",
       "                }\n",
       "\n",
       "                .geemap-colab {\n",
       "                    background-color: var(--colab-primary-surface-color, white);\n",
       "                }\n",
       "\n",
       "                .geemap-colab .jupyter-button {\n",
       "                    --jp-layout-color3: var(--colab-primary-surface-color, white);\n",
       "                }\n",
       "            </style>\n",
       "            "
      ],
      "text/plain": [
       "<IPython.core.display.HTML object>"
      ]
     },
     "metadata": {},
     "output_type": "display_data"
    },
    {
     "data": {
      "application/vnd.jupyter.widget-view+json": {
       "model_id": "1909c6b7d368432a8406b125adef6f98",
       "version_major": 2,
       "version_minor": 0
      },
      "text/plain": [
       "Map(center=[11.2114, -15.1915], controls=(WidgetControl(options=['position', 'transparent_bg'], widget=SearchD…"
      ]
     },
     "execution_count": 4,
     "metadata": {},
     "output_type": "execute_result"
    }
   ],
   "source": [
    "# Add a map to display the image and index\n",
    "Map = geemap.Map(center = (11.2114, -15.1915), zoom = 12)\n",
    "Map"
   ]
  },
  {
   "cell_type": "code",
   "execution_count": 5,
   "metadata": {},
   "outputs": [
    {
     "data": {
      "text/html": [
       "\n",
       "            <style>\n",
       "                .geemap-dark {\n",
       "                    --jp-widgets-color: white;\n",
       "                    --jp-widgets-label-color: white;\n",
       "                    --jp-ui-font-color1: white;\n",
       "                    --jp-layout-color2: #454545;\n",
       "                    background-color: #383838;\n",
       "                }\n",
       "\n",
       "                .geemap-dark .jupyter-button {\n",
       "                    --jp-layout-color3: #383838;\n",
       "                }\n",
       "\n",
       "                .geemap-colab {\n",
       "                    background-color: var(--colab-primary-surface-color, white);\n",
       "                }\n",
       "\n",
       "                .geemap-colab .jupyter-button {\n",
       "                    --jp-layout-color3: var(--colab-primary-surface-color, white);\n",
       "                }\n",
       "            </style>\n",
       "            "
      ],
      "text/plain": [
       "<IPython.core.display.HTML object>"
      ]
     },
     "metadata": {},
     "output_type": "display_data"
    }
   ],
   "source": [
    "# Ensure the creation of a geometry of the area for predict\n",
    "\n",
    "geometry = ee.Geometry.Polygon([[[-15.21471, 11.188674],\n",
    "   [-15.21471, 11.222857],\n",
    "   [-15.133365, 11.222857],\n",
    "   [-15.133365, 11.188674],\n",
    "   [-15.21471, 11.188674]]])"
   ]
  },
  {
   "cell_type": "code",
   "execution_count": 22,
   "metadata": {},
   "outputs": [
    {
     "data": {
      "text/html": [
       "\n",
       "            <style>\n",
       "                .geemap-dark {\n",
       "                    --jp-widgets-color: white;\n",
       "                    --jp-widgets-label-color: white;\n",
       "                    --jp-ui-font-color1: white;\n",
       "                    --jp-layout-color2: #454545;\n",
       "                    background-color: #383838;\n",
       "                }\n",
       "\n",
       "                .geemap-dark .jupyter-button {\n",
       "                    --jp-layout-color3: #383838;\n",
       "                }\n",
       "\n",
       "                .geemap-colab {\n",
       "                    background-color: var(--colab-primary-surface-color, white);\n",
       "                }\n",
       "\n",
       "                .geemap-colab .jupyter-button {\n",
       "                    --jp-layout-color3: var(--colab-primary-surface-color, white);\n",
       "                }\n",
       "            </style>\n",
       "            "
      ],
      "text/plain": [
       "<IPython.core.display.HTML object>"
      ]
     },
     "metadata": {},
     "output_type": "display_data"
    }
   ],
   "source": [
    "# Call the image collection\n",
    "collection = ee.ImageCollection(\"projects/planetscopejesus/assets/Datos_Gabo\")\n",
    "\n",
    "texture = ee.ImageCollection(\"projects/planetscopejesus/assets/Texture_cafine\")\n",
    "pca = ee.Image('projects/planetscopejesus/assets/pca_cafine').float()\n",
    "\n",
    "# Filter by date (in this case is the same month of soil sampling)\n",
    "collection = collection.filterDate('2022-05-01', '2022-05-30').filterBounds(geometry) # This is only to obtain the image (the image is from specific day and in this period of time we don't have more images)\n",
    "\n",
    "# This function maps spectral indices for salinity Mapping using PlanetScope Imagery\n",
    "def addIndices(img):\n",
    "  # NDVI\n",
    "  NDVI = img.normalizedDifference(['b8','b6']).rename('NDVI')\n",
    "  SR = img.select('b8').divide(img.select('b6')).rename('SR')\n",
    "  # GCVI\n",
    "  GCVI = img.expression('(NIR/GREEN)-1',{'NIR':img.select('b8'),'GREEN':img.select('b3')}).rename('GCVI')\n",
    "  # NDWI (GREEN-NIR)/(GREEN+NIR)\n",
    "  NDWI = img.expression('(GREEN-NIR)/(GREEN+NIR)',{'NIR':img.select('b8'),'GREEN':img.select('b3')}).rename('NDWI')\n",
    "  # VARI (Green−Red)/(Green+Reed−Blue)\n",
    "  VARI = img.expression('(Green1-Red)/(Green1+Red-Blue)',{'Blue':img.select('b2'),'Red':img.select('b6'),'Green1':img.select('b3') }).rename('VARI')\n",
    "  # GRVI (NIR/GREEN)\n",
    "  GRVI = img.expression('(NIR/GREEN)',{'NIR':img.select('b8'),'GREEN':img.select('b3')}).rename('GRVI')\n",
    "  # GNDVI (NIR-GREEN)/(NIR+GREEN)\n",
    "  GNDVI = img.normalizedDifference(['b8','b3']).rename('GNDVI')\n",
    "  # SAVI\n",
    "  SAVI = img.expression('(NIR-RED)/((NIR+RED+0.5)*1.5)',{'NIR': img.select('b8'),'RED': img.select('b6')}).rename('SAVI')\n",
    "  # VSSI = 2 ∗ 𝐵3 − 5(𝐵4 + 𝐵5) / Green(B3), Red(B4), NIR(B5)\n",
    "  VSSI = img.expression('2*GREEN-5*(RED+NIR)',{'GREEN': img.select('b3'),'RED': img.select('b6'),'NIR': img.select('b8')}).rename('VSSI')\n",
    "  # S1 (Blue/Red)\n",
    "  S1 = img.select('b2').divide(img.select('b6')).rename('S1')\n",
    "  # S1 (B − R)/(B + R)\n",
    "  S2 = img.expression('(Blue-Red)/(Blue + Red)',{'Blue':img.select('b2'),'Red':img.select('b6') }).rename('S2')\n",
    "  # S3_G1 (G1 × R)/B\n",
    "  S3_G1 = img.expression('(Green1*Red)/(Blue)',{'Blue':img.select('b2'),'Red':img.select('b6'),'Green1':img.select('b3') }).rename('S3_G1')\n",
    "  # S3_G2 (G1 × R)/B\n",
    "  S3_G2 = img.expression('(Green2*Red)/(Blue)',{'Blue':img.select('b2'),'Red':img.select('b6'),'Green2':img.select('b4') }).rename('S3_G2')\n",
    "  # S4 (B×R)**0.5\n",
    "  S4 = img.expression('(Blue*Red)**0.5',{'Blue':img.select('b2'),'Red':img.select('b6')}).rename('S4')\n",
    "  # S5_G1 ((B × R)/G1)\n",
    "  S5_G1= img.expression('(Blue*Red)/Green1',{'Blue':img.select('b2'),'Green1':img.select('b3'),'Red':img.select('b6')}).rename('S5_G1')\n",
    "  # S5_G2 ((B × R)/G1)\n",
    "  S5_G2 = img.expression('(Blue*Red)/Green2',{'Blue':img.select('b2'),'Green2':img.select('b4'),'Red':img.select('b6')}).rename('S5_G2')\n",
    " # S6_G1 (R × NIR)/G1\n",
    "  S6_G1 = img.expression('(Red*NIR)/Green1',{'NIR':img.select('b8'),'Green1':img.select('b3'),'Red':img.select('b6')}).rename('S6_G1')\n",
    "  # S6_G2 (R × NIR)/G2\n",
    "  S6_G2 = img.expression('(Red*NIR)/Green1',{'NIR':img.select('b8'),'Green1':img.select('b3'),'Red':img.select('b6')}).rename('S6_G2')\n",
    "  # SI (B+R)**0.5\n",
    "  SI = img.expression('(Blue+Red)**0.5',{'Blue':img.select('b2'),'Red':img.select('b6')}).rename('SI')\n",
    "  # NDSI (R − NIR)/(R + NIR)\n",
    "  NDSI = img.normalizedDifference(['b6','b8']).rename('NDSI')\n",
    "  # SI1_G1 (G1×R)**0.5\n",
    "  SI1_G1 = img.expression('(Green1*Red)**0.5',{'Green1':img.select('b3'),'Red':img.select('b6')}).rename('SI1_G1')\n",
    "  # SI1_G2 (G1×R)**0.5\n",
    "  SI1_G2 = img.expression('(Green2*Red)**0.5',{'Green2':img.select('b4'),'Red':img.select('b6')}).rename('SI1_G2')\n",
    "  # SI2_G1 [(G1)**2 + (R)**2 + (NIR)**2]**0.5\n",
    "  SI2_G1 = img.expression('((Green1)**2 + (Red)**2 + (NIR)**2)**0.5',{'NIR':img.select('b8'),'Green1':img.select('b3'),'Red':img.select('b6')}).rename('SI2_G1')\n",
    "  # SI2_G2 [(G2)**2 + (R)**2 + (NIR)**2]**0.5\n",
    "  SI2_G2 = img.expression('((Green2)**2 + (Red)**2 + (NIR)**2)**0.5',{'NIR':img.select('b8'),'Green2':img.select('b4'),'Red':img.select('b6')}).rename('SI2_G2')\n",
    "  # SI3_G1 ((G1)**2 + (R)**2)**0.5\n",
    "  SI3_G1 = img.expression('((Green1)**2 + (Red)**2)**0.5',{'Green1':img.select('b3'),'Red':img.select('b6')}).rename('SI3_G1')\n",
    "  # SI3_G2 ((G1)**2 + (R)**2)**0.5\n",
    "  SI3_G2 = img.expression('((Green2)**2 + (Red)**2)**0.5',{'Green2':img.select('b4'),'Red':img.select('b6')}).rename('SI3_G2')\n",
    "  # Int1_G1 (G1 + R)/2\n",
    "  Int1_G1 = img.expression('(Green1+Red)/2',{'Green1':img.select('b3'),'Red':img.select('b6')}).rename('Int1_G1')\n",
    "  # Int1_G2 (G2 + R)/2\n",
    "  Int1_G2 = img.expression('(Green2+Red)/2',{'Green2':img.select('b4'),'Red':img.select('b6')}).rename('Int1_G2')\n",
    "  # Int2_G1 (G1 + R + NIR)/2\n",
    "  Int2_G1 = img.expression('(Green1 + Red + NIR)/2',{'NIR':img.select('b8'),'Green1':img.select('b3'),'Red':img.select('b6')}).rename('Int2_G1')\n",
    "  # Int2_G2 (G1 + R + NIR)/2\n",
    "  Int2_G2 = img.expression('(Green2 + Red + NIR)/2',{'NIR':img.select('b8'),'Green2':img.select('b4'),'Red':img.select('b6')}).rename('Int2_G2')\n",
    "  YRS6_G1 = img.expression('(Y*NIR)/G1',{'Y': img.select('b5'),'NIR': img.select('b8'),'G1': img.select('b3')}).rename('YRS6_G1')\n",
    "  YRS6_G2 = img.expression('(Y*NIR)/G2',{'Y': img.select('b5'),'NIR': img.select('b8'), 'G2': img.select('b4')}).rename('YRS6_G2')\n",
    "  RS6_G1 = img.expression('(Red_edge*NIR)/G1',{'Red_edge': img.select('b7'),'NIR': img.select('b8'),'G1': img.select('b3')}).rename('RS6_G1')\n",
    "  RS6_G2 = img.expression('(Red_edge*NIR)/G2',{'Red_edge': img.select('b7'),'NIR': img.select('b8'),'G2': img.select('b4')}).rename('RS6_G2')\n",
    "  RS1 = img.expression('B/Red_edge', {'B': img.select('b2'), 'Red_edge': img.select('b7')}).rename('RS1')\n",
    "  RS2 = img.expression('(B - Red_edge) / (B + Red_edge)', {'B': img.select('b2'), 'Red_edge': img.select('b7')}).rename('RS2')\n",
    "  RS3_G1 = img.expression('(G1 * Red_edge) / B', {'G1': img.select('b3'), 'Red_edge': img.select('b7'), 'B': img.select('b2')}).rename('RS3_G1')\n",
    "  RS3_G2 = img.expression('(G2 * Red_edge) / B', {'G2': img.select('b4'), 'Red_edge': img.select('b7'), 'B': img.select('b2')}).rename('RS3_G2')\n",
    "  RS4 = img.expression('(B * Red_edge) ** 0.5', {'B': img.select('b2'), 'Red_edge': img.select('b7')}).rename('RS4')\n",
    "  RS5_G1 = img.expression('(B * Red_edge) / G1', {'B': img.select('b2'), 'Red_edge': img.select('b7'), 'G1': img.select('b3')}).rename('RS5_G1')\n",
    "  RS5_G2 = img.expression('(B * Red_edge) / G2', {'B': img.select('b2'), 'Red_edge': img.select('b7'), 'G2': img.select('b4')}).rename('RS5_G2')\n",
    "  RS6_G1 = img.expression('(Red_edge * NIR) / G1', {'Red_edge': img.select('b7'), 'NIR': img.select('b8'), 'G1': img.select('b3')}).rename('RS6_G1')\n",
    "  RS6_G2 = img.expression('(Red_edge * NIR) / G2', {'Red_edge': img.select('b7'), 'NIR': img.select('b8'), 'G2': img.select('b4')}).rename('RS6_G2')\n",
    "  RNDSI = img.expression('(Red_edge - NIR) / (Red_edge + NIR)', {'Red_edge': img.select('b7'), 'NIR': img.select('b8')}).rename('RNDSI')\n",
    "  RNDVI = img.expression('(NIR - Red_edge) / (NIR + Red_edge)', {'Red_edge': img.select('b7'), 'NIR': img.select('b8')}).rename('RNDVI')\n",
    "  RSI = img.expression('(B + Red_edge) ** 0.5', {'B': img.select('b2'), 'Red_edge': img.select('b7')}).rename('RSI')\n",
    "  RSI1_G1 = img.expression('(G1 * Red_edge) ** 0.5', {'G1': img.select('b3'), 'Red_edge': img.select('b7')}).rename('RSI1_G1')\n",
    "  RSI1_G2 = img.expression('(G2 * Red_edge) ** 0.5', {'G2': img.select('b4'), 'Red_edge': img.select('b7')}).rename('RSI1_G2')\n",
    "  RSI2_G1 = img.expression('((G1) ** 2 + (Red_edge) ** 2 + (NIR) ** 2) ** 0.5', {'G1': img.select('b3'), 'Red_edge': img.select('b7'), 'NIR': img.select('b8')}).rename('RSI2_G1')\n",
    "  RSI2_G2 = img.expression('((G2) ** 2 + (Red_edge) ** 2 + (NIR) ** 2) ** 0.5', {'G2': img.select('b4'), 'Red_edge': img.select('b7'), 'NIR': img.select('b8')}).rename('RSI2_G2')\n",
    "  RSI3_G1 = img.expression('((G1) ** 2 + (Red_edge) ** 2) ** 0.5', {'G1': img.select('b3'), 'Red_edge': img.select('b7')}).rename('RSI3_G1')\n",
    "  RSI3_G2 = img.expression('((G2) ** 2 + (Red_edge) ** 2) ** 0.5', {'G2': img.select('b4'), 'Red_edge': img.select('b7')}).rename('RSI3_G2')\n",
    "  RInt1_G1 = img.expression('(G1 + Red_edge) / 2', {'G1': img.select('b3'), 'Red_edge': img.select('b7')}).rename('RInt1_G1')\n",
    "  RInt1_G2 = img.expression('(G2 + Red_edge) / 2', {'G2': img.select('b4'), 'Red_edge': img.select('b7')}).rename('RInt1_G2')\n",
    "  RInt2_G1 = img.expression('(G1 + Red_edge + NIR) / 2', {'G1': img.select('b3'), 'Red_edge': img.select('b7'), 'NIR': img.select('b8')}).rename('RInt2_G1')\n",
    "  RInt2_G2 = img.expression('(G2 + Red_edge + NIR) / 2', {'G2': img.select('b4'), 'Red_edge': img.select('b7'), 'NIR': img.select('b8')}).rename('RInt2_G2')\n",
    "  ####################################################################################### Table 4 ######################################################################################\n",
    "  YRS1 = img.expression('B/Y', {'B': img.select('b2'), 'Y': img.select('b5')}).rename('YRS1')\n",
    "  YRS2 = img.expression('(B - Y) / (B + Y)', {'B': img.select('b2'), 'Y': img.select('b5')}).rename('YRS2')\n",
    "  YRS3_G1 = img.expression('(G1 * Y) / B', {'G1': img.select('b3'), 'Y': img.select('b5'), 'B': img.select('b2')}).rename('YRS3_G1')\n",
    "  YRS3_G2 = img.expression('(G2 * Y) / B', {'G2': img.select('b4'), 'Y': img.select('b5'), 'B': img.select('b2')}).rename('YRS3_G2')\n",
    "  YRS4 = img.expression('(B * Y) ** 0.5', {'B': img.select('b2'), 'Y': img.select('b5')}).rename('YRS4')\n",
    "  YRS5_G1 = img.expression('(B * Y) / G1', {'B': img.select('b2'), 'Y': img.select('b5'), 'G1': img.select('b3')}).rename('YRS5_G1')\n",
    "  YRS5_G2 = img.expression('(B * Y) / G2', {'B': img.select('b2'), 'Y': img.select('b5'), 'G2': img.select('b4')}).rename('YRS5_G2')\n",
    "  YRS6_G1 = img.expression('(Y * NIR) / G1', {'Y': img.select('b5'), 'NIR': img.select('b8'), 'G1': img.select('b3')}).rename('YRS6_G1')\n",
    "  YRS6_G2 = img.expression('(Y * NIR) / G2', {'Y': img.select('b5'), 'NIR': img.select('b8'), 'G2': img.select('b4')}).rename('YRS6_G2')\n",
    "  YRSI = img.expression('(B + Y) ** 0.5', {'B': img.select('b2'), 'Y': img.select('b5')}).rename('YRSI')\n",
    "  YRSI1_G1 = img.expression('(G1 * Y) ** 0.5', {'G1': img.select('b3'), 'Y': img.select('b5')}).rename('YRSI1_G1')\n",
    "  YRSI1_G2 = img.expression('(G2 * Y) ** 0.5', {'G2': img.select('b4'), 'Y': img.select('b5')}).rename('YRSI1_G2')\n",
    "  YRSI2_G1 = img.expression('(((G1) ** 2) + ((Y) ** 2) + ((NIR) ** 2)) ** 0.5', {'G1': img.select('b3'), 'Y': img.select('b5'), 'NIR': img.select('b8')}).rename('YRSI2_G1')\n",
    "  YRSI2_G2 = img.expression('(((G2) ** 2) + ((Y) ** 2) + ((NIR) ** 2)) ** 0.5', {'G2': img.select('b4'), 'Y': img.select('b5'), 'NIR': img.select('b8')}).rename('YRSI2_G2')\n",
    "  YRSI3_G1 = img.expression('(((G1) ** 2) + ((Y) ** 2)) ** 0.5', {'G1': img.select('b3'), 'Y': img.select('b5')}).rename('YRSI3_G1')\n",
    "  YRSI3_G2 = img.expression('(((G2) ** 2) + ((Y) ** 2)) ** 0.5', {'G2': img.select('b4'), 'Y': img.select('b5')}).rename('YRSI3_G2')\n",
    "  YRInt1_G1 = img.expression('(G1 + Y) / 2', {'G1': img.select('b3'), 'Y': img.select('b5')}).rename('YRInt1_G1')\n",
    "  YRInt1_G2 = img.expression('(G2 + Y) / 2', {'G2': img.select('b4'), 'Y': img.select('b5')}).rename('YRInt1_G2')\n",
    "  YRInt2_G1 = img.expression('(G1 + Y + NIR) / 2', {'G1': img.select('b3'), 'Y': img.select('b5'), 'NIR': img.select('b8')}).rename('YRInt2_G1')\n",
    "  YRInt2_G2 = img.expression('(G2 + Y + NIR) / 2', {'G2': img.select('b4'), 'Y': img.select('b5'), 'NIR': img.select('b8')}).rename('YRInt2_G2')\n",
    "  YRNDSI = img.expression('(Y - NIR) / (Y + NIR)', {'Y': img.select('b5'), 'NIR': img.select('b8')}).rename('YRNDSI')\n",
    "  ##########################################################\n",
    "  YRNDVI = img.expression('(NIR - Y) / (NIR + Y)', {'NIR': img.select('b8'), 'Y': img.select('b5')}).rename('YRNDVI')\n",
    "  YBS1 = img.expression('Y / R', {'Y': img.select('b5'), 'R': img.select('b6')}).rename('YBS1')\n",
    "  YBS2 = img.expression('(Y - R) / (Y + R)', {'Y': img.select('b5'), 'R': img.select('b6')}).rename('YBS2')\n",
    "  YBS4 = img.expression('(Y * R) ** 0.5', {'Y': img.select('b5'), 'R': img.select('b6')}).rename('YBS4')\n",
    "  YBS5_G1 = img.expression('(Y * R) / G1', {'Y': img.select('b5'), 'R': img.select('b6'), 'G1': img.select('b3')}).rename('YBS5_G1')\n",
    "  YBS5_G2 = img.expression('(Y * R) / G2', {'Y': img.select('b5'), 'R': img.select('b6'), 'G2': img.select('b4')}).rename('YBS5_G2')\n",
    "  YBSI = img.expression('(Y + R) ** 0.5', {'Y': img.select('b5'), 'R': img.select('b6')}).rename('YBSI')\n",
    "  YGS3 = img.expression('(Y * R) / B', {'B': img.select('b2'), 'Y': img.select('b5'), 'R': img.select('b6')}).rename('YGS3')\n",
    "  YGSI1 = img.expression('(Y * R) ** 0.5', {'R': img.select('b6'), 'Y': img.select('b5')}).rename('YGSI1')\n",
    "  YGSI2 = img.expression('((Y ** 2) + (R ** 2) + (NIR ** 2)) ** 0.5', {'R': img.select('b6'), 'Y': img.select('b5'), 'NIR': img.select('b8')}).rename('YGSI2')\n",
    "  YGSI3 = img.expression('((Y ** 2) + (R ** 2)) ** 0.5', {'Y': img.select('b5'), 'R': img.select('b6')}).rename('YGSI3')\n",
    "  YGInt1 = img.expression('(Y + R) / 2', {'R': img.select('b6'), 'Y': img.select('b5')}).rename('YGInt1')\n",
    "  YGInt2 = img.expression('(Y + R + NIR) / 2', {'R': img.select('b6'), 'Y': img.select('b5'), 'NIR': img.select('b8')}).rename('YGInt2')\n",
    "  YNS6_G1 = img.expression('(R * Y) / G1', {'R': img.select('b6'), 'Y': img.select('b5'), 'G1': img.select('b3')}).rename('YNS6_G1')\n",
    "  YNS6_G2 = img.expression('(R * Y) / G2', {'R': img.select('b6'), 'Y': img.select('b5'), 'G2': img.select('b4')}).rename('YNS6_G2')\n",
    "  YNSI2_G1 = img.expression('((G1 ** 2) + (R ** 2) + (Y ** 2)) ** 0.5', {'G1': img.select('b3'), 'Y': img.select('b5'), 'R': img.select('b6')}).rename('YNSI2_G1')\n",
    "  YNSI2_G2 = img.expression('((G2 ** 2) + (R ** 2) + (Y ** 2)) ** 0.5', {'G2': img.select('b4'), 'Y': img.select('b5'), 'R': img.select('b6')}).rename('YNSI2_G2')\n",
    "  YNInt2_G1 = img.expression('(G1 + R + Y) / 2', {'R': img.select('b6'), 'Y': img.select('b5'), 'G1': img.select('b3')}).rename('YNInt2_G1')\n",
    "  YNInt2_G2 = img.expression('(G2 + R + Y) / 2', {'R': img.select('b6'), 'Y': img.select('b5'), 'G2': img.select('b4')}).rename('YNInt2_G2')\n",
    "  YNNDSI = img.expression('(R - Y) / (R + Y)', {'Y': img.select('b5'), 'R': img.select('b6')}).rename('YNNDSI')\n",
    "  YNNDVI = img.expression('(Y - R) / (Y + R)', {'R': img.select('b6'), 'Y': img.select('b5')}).rename('YNNDVI')\n",
    "  return img \\\n",
    "    .addBands(\n",
    "[\n",
    "    NDVI, SR, GCVI, NDWI, VARI, GNDVI, GRVI, SAVI, VSSI, S1, S2, S3_G1, S3_G2, S4, S5_G1, S5_G2,\n",
    "    S6_G1, S6_G2, SI, NDSI, SI1_G1, SI1_G2, SI2_G1, SI2_G2, SI3_G1, SI3_G2, Int1_G1, Int1_G2,\n",
    "    Int2_G1, Int2_G2, YRS6_G1, YRS6_G2, RS6_G1, RS6_G2, RS1, RS2, RS3_G1, RS3_G2, RS4, RS5_G1,\n",
    "    RS5_G2, RNDSI, RNDVI, RSI, RSI1_G1, RSI1_G2, RSI2_G1, RSI2_G2, RSI3_G1, RSI3_G2, RInt1_G1,\n",
    "    RInt1_G2, RInt2_G1, RInt2_G2,YRS1, YRS2, YRS3_G1, YRS3_G2, YRS4, YRS5_G1, YRS5_G2, YRSI, YRSI1_G1, \n",
    "    YRSI1_G2, YRSI2_G1, YRSI2_G2, YRSI3_G1, YRSI3_G2, YRInt1_G1, YRInt1_G2, YRInt2_G1, YRInt2_G2, YRNDSI,\n",
    "    YRNDVI, YBS1, YBS2, YBS4, YBS5_G1, YBS5_G2, YBSI, YGS3, YGSI1, YGSI2, YGSI3, YGInt1,\n",
    "     YGInt2, YNS6_G1, YNS6_G2, YNSI2_G1, YNSI2_G2, YNInt2_G1, YNInt2_G2, YNNDSI, YNNDVI\n",
    "\n",
    "]\n",
    "\n",
    "    )\n",
    "\n",
    "ps = collection\n",
    "\n",
    "#Add the indices\n",
    "ps_1 = ps.map(addIndices)\n",
    "composite = ps_1 \\\n",
    "              .mean()\\\n",
    "              .float()\n",
    "\n",
    "texture1 = texture.mean()\n",
    "\n",
    "\n",
    "# Select the NIR band, for the calculation type it must be in Int32, since glcmTexture only supports this data type.\n",
    "nir = composite.select('b8').toInt32()\n",
    "\n",
    "# Calculate the texture using the Contrast Index\n",
    "texture = nir.glcmTexture()\n",
    "texture_b8 = texture.select('b8_asm').float()\n",
    "\n",
    "# Add the all bands in only one file\n",
    "composite = composite.addBands(texture1).addBands(pca).addBands(texture_b8)\n",
    "\n",
    "# Add texture layer to the map and other images (index)\n",
    "Map.addLayer(texture, {}, 'Textura NIR')\n",
    "Map.addLayer(composite, {'bands': ['b6',  'b4',  'b2'], 'min': 201, 'max': 2464}, 'RGB')\n",
    "Map.addLayer(composite, {'bands': ['S1',  'S2',  'S3_G1'], 'min': 0, 'max': 1}, 'Index')\n",
    "\n",
    "\n",
    "# RELEVANT NOTE on soil texture raster order Cafine case:\n",
    "# B1_1 = Clay + Silt\n",
    "# B2_1 = Sand\n",
    "# B3_1 = Silt\n",
    "# B4_1 = Clay\n",
    "\n",
    "#Export the bands to model Cafine.\n",
    "export = composite.select(['b1','b2','b3','b4','b5','b6','b7','b8',\"NDVI\", \"SR\", \"GCVI\", \"NDWI\", \"VARI\", \"GNDVI\", \"GRVI\", \"SAVI\", \"VSSI\", \"S1\", \"S2\", \n",
    "\"S3_G1\", \"S3_G2\", \"S4\", \"S5_G1\", \"S5_G2\", \"S6_G1\", \"S6_G2\", \"SI\", \"NDSI\", \"SI1_G1\", \n",
    "\"SI1_G2\", \"SI2_G1\", \"SI2_G2\", \"SI3_G1\", \"SI3_G2\", \"Int1_G1\", \"Int1_G2\", \"Int2_G1\", \n",
    "\"Int2_G2\", \"YRS6_G1\", \"YRS6_G2\", \"RS6_G1\", \"RS6_G2\", \"RS1\", \"RS2\", \"RS3_G1\", \"RS3_G2\", \n",
    "\"RS4\", \"RS5_G1\", \"RS5_G2\", \"RNDSI\", \"RNDVI\", \"RSI\", \"RSI1_G1\", \"RSI1_G2\", \"RSI2_G1\", \n",
    "\"RSI2_G2\", \"RSI3_G1\", \"RSI3_G2\", \"RInt1_G1\", \"RInt1_G2\", \"RInt2_G1\", \"RInt2_G2\", \n",
    "\"YRS1\", \"YRS2\", \"YRS3_G1\", \"YRS3_G2\", \"YRS4\", \"YRS5_G1\", \"YRS5_G2\", \"YRSI\", \"YRSI1_G1\", \n",
    "\"YRSI1_G2\", \"YRSI2_G1\", \"YRSI2_G2\", \"YRSI3_G1\", \"YRSI3_G2\", \"YRInt1_G1\", \"YRInt1_G2\", \n",
    "\"YRInt2_G1\", \"YRInt2_G2\", \"YRNDSI\", \"YRNDVI\", \"YBS1\", \"YBS2\", \"YBS4\", \"YBS5_G1\", \n",
    "\"YBS5_G2\", \"YBSI\", \"YGS3\", \"YGSI1\", \"YGSI2\", \"YGSI3\", \"YGInt1\", \"YGInt2\", \"YNS6_G1\", \n",
    "\"YNS6_G2\", \"YNSI2_G1\", \"YNSI2_G2\", \"YNInt2_G1\", \"YNInt2_G2\", \"YNNDSI\", \"YNNDVI\", 'pc1','pc2','pc3',\"b1_1\", 'b2_1', 'b3_1', 'b4_1','b8_asm'])\n",
    "\n"
   ]
  },
  {
   "cell_type": "markdown",
   "metadata": {},
   "source": [
    "Run the next line. You can see the process of export in: https://code.earthengine.google.com/ or in https://code.earthengine.google.com/tasks"
   ]
  },
  {
   "cell_type": "code",
   "execution_count": 23,
   "metadata": {},
   "outputs": [
    {
     "data": {
      "text/html": [
       "\n",
       "            <style>\n",
       "                .geemap-dark {\n",
       "                    --jp-widgets-color: white;\n",
       "                    --jp-widgets-label-color: white;\n",
       "                    --jp-ui-font-color1: white;\n",
       "                    --jp-layout-color2: #454545;\n",
       "                    background-color: #383838;\n",
       "                }\n",
       "\n",
       "                .geemap-dark .jupyter-button {\n",
       "                    --jp-layout-color3: #383838;\n",
       "                }\n",
       "\n",
       "                .geemap-colab {\n",
       "                    background-color: var(--colab-primary-surface-color, white);\n",
       "                }\n",
       "\n",
       "                .geemap-colab .jupyter-button {\n",
       "                    --jp-layout-color3: var(--colab-primary-surface-color, white);\n",
       "                }\n",
       "            </style>\n",
       "            "
      ],
      "text/plain": [
       "<IPython.core.display.HTML object>"
      ]
     },
     "metadata": {},
     "output_type": "display_data"
    }
   ],
   "source": [
    "geemap.ee_export_image_to_drive(\n",
    "    export, description='PS_Index_Cafine', folder='Planet_Images_Model_Salinity', region=geometry, scale= 3, crs = 'EPSG:2095'\n",
    ")"
   ]
  },
  {
   "cell_type": "markdown",
   "metadata": {},
   "source": [
    "#### 1.2.1 The image exported to Drive needs to be downloaded using PyDrive"
   ]
  },
  {
   "cell_type": "code",
   "execution_count": 11,
   "metadata": {},
   "outputs": [
    {
     "data": {
      "text/html": [
       "\n",
       "            <style>\n",
       "                .geemap-dark {\n",
       "                    --jp-widgets-color: white;\n",
       "                    --jp-widgets-label-color: white;\n",
       "                    --jp-ui-font-color1: white;\n",
       "                    --jp-layout-color2: #454545;\n",
       "                    background-color: #383838;\n",
       "                }\n",
       "\n",
       "                .geemap-dark .jupyter-button {\n",
       "                    --jp-layout-color3: #383838;\n",
       "                }\n",
       "\n",
       "                .geemap-colab {\n",
       "                    background-color: var(--colab-primary-surface-color, white);\n",
       "                }\n",
       "\n",
       "                .geemap-colab .jupyter-button {\n",
       "                    --jp-layout-color3: var(--colab-primary-surface-color, white);\n",
       "                }\n",
       "            </style>\n",
       "            "
      ],
      "text/plain": [
       "<IPython.core.display.HTML object>"
      ]
     },
     "metadata": {},
     "output_type": "display_data"
    },
    {
     "name": "stdout",
     "output_type": "stream",
     "text": [
      "Your browser has been opened to visit:\n",
      "\n",
      "    https://accounts.google.com/o/oauth2/auth?client_id=775448020170-glgpi5v37ur14of7spbms2gi67g7silt.apps.googleusercontent.com&redirect_uri=http%3A%2F%2Flocalhost%3A8080%2F&scope=https%3A%2F%2Fwww.googleapis.com%2Fauth%2Fdrive&access_type=offline&response_type=code\n",
      "\n",
      "Authentication successful.\n"
     ]
    }
   ],
   "source": [
    "from pydrive.auth import GoogleAuth\n",
    "from pydrive.drive import GoogleDrive\n",
    "\n",
    "credentials_path = 'C:/Users/cespe/client_secret_2_775448020170-glgpi5v37ur14of7spbms2gi67g7silt.apps.googleusercontent.com.json'\n",
    "\n",
    "# Authenticate and create the PyDrive instance\n",
    "gauth = GoogleAuth()\n",
    "gauth.LoadClientConfigFile(credentials_path)\n",
    "gauth.LocalWebserverAuth()  # Opens a browser window to authenticate\n",
    "drive = GoogleDrive(gauth)"
   ]
  },
  {
   "cell_type": "code",
   "execution_count": 24,
   "metadata": {},
   "outputs": [
    {
     "data": {
      "text/html": [
       "\n",
       "            <style>\n",
       "                .geemap-dark {\n",
       "                    --jp-widgets-color: white;\n",
       "                    --jp-widgets-label-color: white;\n",
       "                    --jp-ui-font-color1: white;\n",
       "                    --jp-layout-color2: #454545;\n",
       "                    background-color: #383838;\n",
       "                }\n",
       "\n",
       "                .geemap-dark .jupyter-button {\n",
       "                    --jp-layout-color3: #383838;\n",
       "                }\n",
       "\n",
       "                .geemap-colab {\n",
       "                    background-color: var(--colab-primary-surface-color, white);\n",
       "                }\n",
       "\n",
       "                .geemap-colab .jupyter-button {\n",
       "                    --jp-layout-color3: var(--colab-primary-surface-color, white);\n",
       "                }\n",
       "            </style>\n",
       "            "
      ],
      "text/plain": [
       "<IPython.core.display.HTML object>"
      ]
     },
     "metadata": {},
     "output_type": "display_data"
    },
    {
     "name": "stdout",
     "output_type": "stream",
     "text": [
      "File PS_Index_Cafine.tif downloaded successfully.\n"
     ]
    }
   ],
   "source": [
    "# Google Drive folder ID\n",
    "folder_id = '1iPqQkFH8ACsOgf0Pk8iZsiXpw0WqP6Sp'  # Replace with your actual folder ID\n",
    "file_title = 'PS_Index_Cafine.tif'  # Name of the file you are looking for\n",
    "\n",
    "try:\n",
    "    # List all files in the specified folder\n",
    "    file_list = drive.ListFile({'q': f\"'{folder_id}' in parents and trashed=false\"}).GetList()\n",
    "    \n",
    "    # Iterate through the file list to find the file with the specified title\n",
    "    for file in file_list:\n",
    "        if file['title'] == file_title:\n",
    "            # Download the file\n",
    "            file.GetContentFile(file_title)\n",
    "            print(f\"File {file_title} downloaded successfully.\")\n",
    "            break\n",
    "    else:\n",
    "        # File not found in the folder\n",
    "        print(f\"File {file_title} not found in folder {folder_id}.\")\n",
    "except Exception as e:\n",
    "    # Print any errors that occur during the process\n",
    "    print(f\"Error while searching for the file in Google Drive: {e}\")\n",
    "\n"
   ]
  },
  {
   "cell_type": "markdown",
   "metadata": {},
   "source": [
    "#### 1.2.2 Extract the data of the image using the sample points and applying a buffer over the points"
   ]
  },
  {
   "cell_type": "markdown",
   "metadata": {},
   "source": [
    "Add the sampling of Cafine to the enviroment "
   ]
  },
  {
   "cell_type": "code",
   "execution_count": 26,
   "metadata": {},
   "outputs": [
    {
     "data": {
      "text/html": [
       "\n",
       "            <style>\n",
       "                .geemap-dark {\n",
       "                    --jp-widgets-color: white;\n",
       "                    --jp-widgets-label-color: white;\n",
       "                    --jp-ui-font-color1: white;\n",
       "                    --jp-layout-color2: #454545;\n",
       "                    background-color: #383838;\n",
       "                }\n",
       "\n",
       "                .geemap-dark .jupyter-button {\n",
       "                    --jp-layout-color3: #383838;\n",
       "                }\n",
       "\n",
       "                .geemap-colab {\n",
       "                    background-color: var(--colab-primary-surface-color, white);\n",
       "                }\n",
       "\n",
       "                .geemap-colab .jupyter-button {\n",
       "                    --jp-layout-color3: var(--colab-primary-surface-color, white);\n",
       "                }\n",
       "            </style>\n",
       "            "
      ],
      "text/plain": [
       "<IPython.core.display.HTML object>"
      ]
     },
     "metadata": {},
     "output_type": "display_data"
    },
    {
     "data": {
      "text/html": [
       "<div>\n",
       "<style scoped>\n",
       "    .dataframe tbody tr th:only-of-type {\n",
       "        vertical-align: middle;\n",
       "    }\n",
       "\n",
       "    .dataframe tbody tr th {\n",
       "        vertical-align: top;\n",
       "    }\n",
       "\n",
       "    .dataframe thead th {\n",
       "        text-align: right;\n",
       "    }\n",
       "</style>\n",
       "<table border=\"1\" class=\"dataframe\">\n",
       "  <thead>\n",
       "    <tr style=\"text-align: right;\">\n",
       "      <th></th>\n",
       "      <th>ogc_fid</th>\n",
       "      <th>id</th>\n",
       "      <th>ID_Sample</th>\n",
       "      <th>Sand</th>\n",
       "      <th>Clay</th>\n",
       "      <th>Silt</th>\n",
       "      <th>X</th>\n",
       "      <th>Y</th>\n",
       "      <th>Sample_ID</th>\n",
       "      <th>SAR</th>\n",
       "      <th>CE</th>\n",
       "      <th>geometry</th>\n",
       "    </tr>\n",
       "  </thead>\n",
       "  <tbody>\n",
       "    <tr>\n",
       "      <th>0</th>\n",
       "      <td>1.0</td>\n",
       "      <td>1</td>\n",
       "      <td>M-CF 1</td>\n",
       "      <td>0.15</td>\n",
       "      <td>0.39</td>\n",
       "      <td>0.46</td>\n",
       "      <td>477148.9961</td>\n",
       "      <td>1240297.891</td>\n",
       "      <td>M-CF 1</td>\n",
       "      <td>26.926614</td>\n",
       "      <td>7.089333</td>\n",
       "      <td>POINT (477148.996 1240297.892)</td>\n",
       "    </tr>\n",
       "    <tr>\n",
       "      <th>1</th>\n",
       "      <td>2.0</td>\n",
       "      <td>2</td>\n",
       "      <td>M-CF 2</td>\n",
       "      <td>0.51</td>\n",
       "      <td>0.17</td>\n",
       "      <td>0.32</td>\n",
       "      <td>477148.9961</td>\n",
       "      <td>1240055.391</td>\n",
       "      <td>M-CF 2</td>\n",
       "      <td>86.327645</td>\n",
       "      <td>29.169333</td>\n",
       "      <td>POINT (477148.996 1240055.392)</td>\n",
       "    </tr>\n",
       "    <tr>\n",
       "      <th>2</th>\n",
       "      <td>3.0</td>\n",
       "      <td>3</td>\n",
       "      <td>M-CF 3</td>\n",
       "      <td>0.34</td>\n",
       "      <td>0.19</td>\n",
       "      <td>0.47</td>\n",
       "      <td>477148.9961</td>\n",
       "      <td>1239812.891</td>\n",
       "      <td>M-CF 3</td>\n",
       "      <td>112.754286</td>\n",
       "      <td>42.417333</td>\n",
       "      <td>POINT (477148.996 1239812.892)</td>\n",
       "    </tr>\n",
       "    <tr>\n",
       "      <th>3</th>\n",
       "      <td>4.0</td>\n",
       "      <td>4</td>\n",
       "      <td>M-CF 4</td>\n",
       "      <td>0.49</td>\n",
       "      <td>0.08</td>\n",
       "      <td>0.43</td>\n",
       "      <td>477148.9961</td>\n",
       "      <td>1239570.391</td>\n",
       "      <td>M-CF 4</td>\n",
       "      <td>193.130080</td>\n",
       "      <td>89.521333</td>\n",
       "      <td>POINT (477148.996 1239570.392)</td>\n",
       "    </tr>\n",
       "    <tr>\n",
       "      <th>4</th>\n",
       "      <td>5.0</td>\n",
       "      <td>5</td>\n",
       "      <td>M-CF 5</td>\n",
       "      <td>0.51</td>\n",
       "      <td>0.09</td>\n",
       "      <td>0.40</td>\n",
       "      <td>477148.9961</td>\n",
       "      <td>1239085.391</td>\n",
       "      <td>M-CF 5</td>\n",
       "      <td>126.060248</td>\n",
       "      <td>57.628000</td>\n",
       "      <td>POINT (477148.996 1239085.392)</td>\n",
       "    </tr>\n",
       "  </tbody>\n",
       "</table>\n",
       "</div>"
      ],
      "text/plain": [
       "   ogc_fid  id ID_Sample  Sand  Clay  Silt            X            Y  \\\n",
       "0      1.0   1    M-CF 1  0.15  0.39  0.46  477148.9961  1240297.891   \n",
       "1      2.0   2    M-CF 2  0.51  0.17  0.32  477148.9961  1240055.391   \n",
       "2      3.0   3    M-CF 3  0.34  0.19  0.47  477148.9961  1239812.891   \n",
       "3      4.0   4    M-CF 4  0.49  0.08  0.43  477148.9961  1239570.391   \n",
       "4      5.0   5    M-CF 5  0.51  0.09  0.40  477148.9961  1239085.391   \n",
       "\n",
       "  Sample_ID         SAR         CE                        geometry  \n",
       "0    M-CF 1   26.926614   7.089333  POINT (477148.996 1240297.892)  \n",
       "1    M-CF 2   86.327645  29.169333  POINT (477148.996 1240055.392)  \n",
       "2    M-CF 3  112.754286  42.417333  POINT (477148.996 1239812.892)  \n",
       "3    M-CF 4  193.130080  89.521333  POINT (477148.996 1239570.392)  \n",
       "4    M-CF 5  126.060248  57.628000  POINT (477148.996 1239085.392)  "
      ]
     },
     "execution_count": 26,
     "metadata": {},
     "output_type": "execute_result"
    }
   ],
   "source": [
    "import shapely as shp\n",
    "\n",
    "# read in training data polygons that created as geojson from a shared directory\n",
    "training_data = '../DataIn/Cafine.geojson'\n",
    "training_vectors = gpd.read_file(training_data)\n",
    "\n",
    "# make a bounding box and centroid for mapping\n",
    "bbox = training_vectors.total_bounds\n",
    "center = shp.geometry.box(bbox[0], bbox[1], bbox[2], bbox[3]).centroid\n",
    "\n",
    "# show the 1st 5 lines\n",
    "training_vectors.head()"
   ]
  },
  {
   "cell_type": "code",
   "execution_count": 27,
   "metadata": {},
   "outputs": [
    {
     "data": {
      "text/html": [
       "\n",
       "            <style>\n",
       "                .geemap-dark {\n",
       "                    --jp-widgets-color: white;\n",
       "                    --jp-widgets-label-color: white;\n",
       "                    --jp-ui-font-color1: white;\n",
       "                    --jp-layout-color2: #454545;\n",
       "                    background-color: #383838;\n",
       "                }\n",
       "\n",
       "                .geemap-dark .jupyter-button {\n",
       "                    --jp-layout-color3: #383838;\n",
       "                }\n",
       "\n",
       "                .geemap-colab {\n",
       "                    background-color: var(--colab-primary-surface-color, white);\n",
       "                }\n",
       "\n",
       "                .geemap-colab .jupyter-button {\n",
       "                    --jp-layout-color3: var(--colab-primary-surface-color, white);\n",
       "                }\n",
       "            </style>\n",
       "            "
      ],
      "text/plain": [
       "<IPython.core.display.HTML object>"
      ]
     },
     "metadata": {},
     "output_type": "display_data"
    },
    {
     "name": "stdout",
     "output_type": "stream",
     "text": [
      "            CE\n",
      "0     7.089333\n",
      "1    29.169333\n",
      "2    42.417333\n",
      "3    89.521333\n",
      "4    57.628000\n",
      "..         ...\n",
      "178  19.110667\n",
      "179  39.718667\n",
      "180  33.340000\n",
      "181   3.900000\n",
      "182  36.038667\n",
      "\n",
      "[183 rows x 1 columns]\n"
     ]
    }
   ],
   "source": [
    "# find all unique values of training data names to use as classes\n",
    "classes = training_vectors[['CE']]\n",
    "classes.shape\n",
    "\n",
    "print(classes)"
   ]
  },
  {
   "cell_type": "code",
   "execution_count": 31,
   "metadata": {},
   "outputs": [
    {
     "data": {
      "text/html": [
       "\n",
       "            <style>\n",
       "                .geemap-dark {\n",
       "                    --jp-widgets-color: white;\n",
       "                    --jp-widgets-label-color: white;\n",
       "                    --jp-ui-font-color1: white;\n",
       "                    --jp-layout-color2: #454545;\n",
       "                    background-color: #383838;\n",
       "                }\n",
       "\n",
       "                .geemap-dark .jupyter-button {\n",
       "                    --jp-layout-color3: #383838;\n",
       "                }\n",
       "\n",
       "                .geemap-colab {\n",
       "                    background-color: var(--colab-primary-surface-color, white);\n",
       "                }\n",
       "\n",
       "                .geemap-colab .jupyter-button {\n",
       "                    --jp-layout-color3: var(--colab-primary-surface-color, white);\n",
       "                }\n",
       "            </style>\n",
       "            "
      ],
      "text/plain": [
       "<IPython.core.display.HTML object>"
      ]
     },
     "metadata": {},
     "output_type": "display_data"
    }
   ],
   "source": [
    "from shapely.geometry import shape, box\n",
    "import rasterio\n",
    "from rasterio.features import rasterize\n",
    "import numpy as np\n",
    "from rasterstats.io import bounds_window\n",
    "\n",
    "# Define the buffer distance (in raster units or coordinates)\n",
    "buffer_distance = 6  # Adjust this distance as needed\n",
    "\n",
    "##If you want to read the data directly from the shared folder, uncomment the following line.\n",
    "raster_file = '../DataIntermediate/PS_Index_Cafine.tif'\n",
    "\n",
    "# Create an empty list to store the buffered geometries\n",
    "buffer_geoms = []\n",
    "X_raw = []\n",
    "\n",
    "with rasterio.open(raster_file, 'r') as src:\n",
    "    for (label, geom) in zip(training_vectors.SAR, training_vectors.geometry):\n",
    "        # Create a buffered geometry\n",
    "        buffered_geom = geom.buffer(buffer_distance)\n",
    "\n",
    "        # Add the buffered geometry to the list\n",
    "        buffer_geoms.append(buffered_geom)\n",
    "\n",
    "        # Get the bounds of the buffered geometry\n",
    "        buffered_bounds = buffered_geom.bounds\n",
    "\n",
    "        # Use the buffered bounds to create the window\n",
    "        window = bounds_window(buffered_bounds, src.transform)\n",
    "\n",
    "        window_affine = src.window_transform(window)\n",
    "        fsrc = src.read(window=window)\n",
    "        mask = rasterize(\n",
    "            [(buffered_geom, 1)],\n",
    "            out_shape=fsrc.shape[1:],\n",
    "            transform=window_affine,\n",
    "            fill=0,\n",
    "            dtype='float32',\n",
    "            all_touched=True\n",
    "        ).astype(bool)\n",
    "        label_pixels = np.argwhere(mask)\n",
    "\n",
    "        buffer_values = []  # Lista para almacenar los valores de píxeles en el buffer\n",
    "        for (row, col) in label_pixels:\n",
    "            data = fsrc[:, row, col]\n",
    "            one_x = np.nan_to_num(data, nan=0)\n",
    "            buffer_values.append(one_x)\n",
    "\n",
    "        # Calcular el valor promedio dentro del buffer\n",
    "        if buffer_values:\n",
    "            average_value = np.median(buffer_values, axis=0)\n",
    "            X_raw.append(average_value)"
   ]
  },
  {
   "cell_type": "code",
   "execution_count": 32,
   "metadata": {},
   "outputs": [
    {
     "data": {
      "text/html": [
       "\n",
       "            <style>\n",
       "                .geemap-dark {\n",
       "                    --jp-widgets-color: white;\n",
       "                    --jp-widgets-label-color: white;\n",
       "                    --jp-ui-font-color1: white;\n",
       "                    --jp-layout-color2: #454545;\n",
       "                    background-color: #383838;\n",
       "                }\n",
       "\n",
       "                .geemap-dark .jupyter-button {\n",
       "                    --jp-layout-color3: #383838;\n",
       "                }\n",
       "\n",
       "                .geemap-colab {\n",
       "                    background-color: var(--colab-primary-surface-color, white);\n",
       "                }\n",
       "\n",
       "                .geemap-colab .jupyter-button {\n",
       "                    --jp-layout-color3: var(--colab-primary-surface-color, white);\n",
       "                }\n",
       "            </style>\n",
       "            "
      ],
      "text/plain": [
       "<IPython.core.display.HTML object>"
      ]
     },
     "metadata": {},
     "output_type": "display_data"
    },
    {
     "name": "stdout",
     "output_type": "stream",
     "text": [
      "Archivos shapefile guardados con éxito en Google Drive.\n"
     ]
    }
   ],
   "source": [
    "# Create a GeoDataFrame from the list of buffered geometries\n",
    "gdf = gpd.GeoDataFrame(geometry=buffer_geoms)\n",
    "\n",
    "# Define the output shapefile path on Google Drive\n",
    "output_shapefile = '../DataIntermediate/buffers_cafine.shp'\n",
    "\n",
    "# Save the GeoDataFrame as a shapefile\n",
    "gdf.to_file(output_shapefile)\n",
    "\n",
    "print(\"Archivos shapefile guardados con éxito en Google Drive.\")"
   ]
  },
  {
   "cell_type": "code",
   "execution_count": 33,
   "metadata": {},
   "outputs": [
    {
     "data": {
      "text/html": [
       "\n",
       "            <style>\n",
       "                .geemap-dark {\n",
       "                    --jp-widgets-color: white;\n",
       "                    --jp-widgets-label-color: white;\n",
       "                    --jp-ui-font-color1: white;\n",
       "                    --jp-layout-color2: #454545;\n",
       "                    background-color: #383838;\n",
       "                }\n",
       "\n",
       "                .geemap-dark .jupyter-button {\n",
       "                    --jp-layout-color3: #383838;\n",
       "                }\n",
       "\n",
       "                .geemap-colab {\n",
       "                    background-color: var(--colab-primary-surface-color, white);\n",
       "                }\n",
       "\n",
       "                .geemap-colab .jupyter-button {\n",
       "                    --jp-layout-color3: var(--colab-primary-surface-color, white);\n",
       "                }\n",
       "            </style>\n",
       "            "
      ],
      "text/plain": [
       "<IPython.core.display.HTML object>"
      ]
     },
     "metadata": {},
     "output_type": "display_data"
    },
    {
     "name": "stdout",
     "output_type": "stream",
     "text": [
      "Input raster properties:\n",
      "---------------------------------\n",
      "Number of bands: 110\n",
      "Dimensions (rows, columns): (1263, 2962)\n",
      "Coordinate reference system (CRS): EPSG:2095\n",
      "Data type: float32\n",
      "Nodata values: None\n"
     ]
    }
   ],
   "source": [
    "import rasterio\n",
    "\n",
    "# Input raster file path\n",
    "raster_file = raster_file\n",
    "\n",
    "# Open raster file in read-only mode\n",
    "with rasterio.open(raster_file, 'r') as src:\n",
    "    # print raster properties.\n",
    "    print('Input raster properties:')\n",
    "    print('---------------------------------')\n",
    "    print('Number of bands:', src.count)\n",
    "    print('Dimensions (rows, columns):', src.shape)\n",
    "    print('Coordinate reference system (CRS):', src.crs)\n",
    "    print('Data type:', src.dtypes[0]) # First band data type\n",
    "    print('Nodata values:', src.nodata)\n"
   ]
  },
  {
   "cell_type": "code",
   "execution_count": 35,
   "metadata": {},
   "outputs": [
    {
     "data": {
      "text/html": [
       "\n",
       "            <style>\n",
       "                .geemap-dark {\n",
       "                    --jp-widgets-color: white;\n",
       "                    --jp-widgets-label-color: white;\n",
       "                    --jp-ui-font-color1: white;\n",
       "                    --jp-layout-color2: #454545;\n",
       "                    background-color: #383838;\n",
       "                }\n",
       "\n",
       "                .geemap-dark .jupyter-button {\n",
       "                    --jp-layout-color3: #383838;\n",
       "                }\n",
       "\n",
       "                .geemap-colab {\n",
       "                    background-color: var(--colab-primary-surface-color, white);\n",
       "                }\n",
       "\n",
       "                .geemap-colab .jupyter-button {\n",
       "                    --jp-layout-color3: var(--colab-primary-surface-color, white);\n",
       "                }\n",
       "            </style>\n",
       "            "
      ],
      "text/plain": [
       "<IPython.core.display.HTML object>"
      ]
     },
     "metadata": {},
     "output_type": "display_data"
    },
    {
     "data": {
      "text/plain": [
       "((183, 110), (183, 2))"
      ]
     },
     "execution_count": 35,
     "metadata": {},
     "output_type": "execute_result"
    }
   ],
   "source": [
    "import pandas as pd\n",
    "\n",
    "coordinates = pd.DataFrame(training_vectors)\n",
    "X = pd.DataFrame(X_raw, columns = ['b1','b2','b3','b4','b5','b6','b7','b8','NDVI','SR','GCVI','NDWI','VARI','GNDVI','GRVI','SAVI','VSSI','S1','S2','S3_G1','S3_G2','S4','S5_G1','S5_G2','S6_G1','S6_G2','SI','NDSI','SI1_G1','SI1_G2','SI2_G1','SI2_G2','SI3_G1','SI3_G2',\n",
    "'Int1_G1','Int1_G2','Int2_G1','Int2_G2','YRS6_G1','YRS6_G2','RS6_G1','RS6_G2','RS1','RS2','RS3_G1','RS3_G2','RS4','RS5_G1','RS5_G2','RNDSI','RNDVI','RSI','RSI1_G1','YRSI1_G1', 'YRSI1_G2', 'YRSI2_G1',\n",
    "'RSI1_G2','RSI2_G1','RSI2_G2','RSI3_G1','RSI3_G2','RInt1_G1','RInt1_G2','RInt2_G1','RInt2_G2', 'YRS1', 'YRS2', 'YRS3_G1', 'YRS3_G2', 'YRS4', 'YRS5_G1', 'YRS5_G2','YRSI',  'YRSI2_G2', 'YRSI3_G1',\n",
    "'YRSI3_G2','YRInt1_G1', 'YRInt1_G2', 'YRInt2_G1', 'YRInt2_G2', 'YRNDSI', 'YRNDVI', 'YBS1','YBS2', 'YBS4', 'YBS5_G1', 'YBS5_G2', 'YBSI', 'YGS3', 'YGSI1', 'YGSI2', 'YGSI3','YGInt1', 'YGInt2', 'YNS6_G1',\n",
    "'YNS6_G2', 'YNSI2_G1', 'YNSI2_G2', 'YNInt2_G1', 'YNInt2_G2','YNNDSI', 'YNNDVI','pc1','pc2','pc3','b1_1','b2_1','b3_1','b4_1','b8_asm']).dropna()\n",
    "# X = pd.concat([X, coordinates[['x', 'y']]], axis=1)\n",
    "y = pd.DataFrame(training_vectors[[\"CE\",'id']]).dropna()\n",
    "\n",
    "(X.shape, y.shape)"
   ]
  },
  {
   "cell_type": "code",
   "execution_count": 36,
   "metadata": {},
   "outputs": [
    {
     "data": {
      "text/html": [
       "\n",
       "            <style>\n",
       "                .geemap-dark {\n",
       "                    --jp-widgets-color: white;\n",
       "                    --jp-widgets-label-color: white;\n",
       "                    --jp-ui-font-color1: white;\n",
       "                    --jp-layout-color2: #454545;\n",
       "                    background-color: #383838;\n",
       "                }\n",
       "\n",
       "                .geemap-dark .jupyter-button {\n",
       "                    --jp-layout-color3: #383838;\n",
       "                }\n",
       "\n",
       "                .geemap-colab {\n",
       "                    background-color: var(--colab-primary-surface-color, white);\n",
       "                }\n",
       "\n",
       "                .geemap-colab .jupyter-button {\n",
       "                    --jp-layout-color3: var(--colab-primary-surface-color, white);\n",
       "                }\n",
       "            </style>\n",
       "            "
      ],
      "text/plain": [
       "<IPython.core.display.HTML object>"
      ]
     },
     "metadata": {},
     "output_type": "display_data"
    }
   ],
   "source": [
    "# Concatenar X y y a lo largo de las columnas (axis=1)\n",
    "merged_df_cafine = pd.concat([X, y], axis=1)\n",
    "\n",
    "# Exportar el DataFrame fusionado a un archivo xlsx\n",
    "merged_df_cafine.to_excel('../DataIntermediate/merged_data_cafine.xlsx', index=False)"
   ]
  }
 ],
 "metadata": {
  "kernelspec": {
   "display_name": "Python 3",
   "language": "python",
   "name": "python3"
  },
  "language_info": {
   "codemirror_mode": {
    "name": "ipython",
    "version": 3
   },
   "file_extension": ".py",
   "mimetype": "text/x-python",
   "name": "python",
   "nbconvert_exporter": "python",
   "pygments_lexer": "ipython3",
   "version": "3.10.11"
  }
 },
 "nbformat": 4,
 "nbformat_minor": 2
}
